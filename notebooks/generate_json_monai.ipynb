{
 "cells": [
  {
   "cell_type": "code",
   "execution_count": 1,
   "metadata": {},
   "outputs": [],
   "source": [
    "import os\n",
    "import json\n",
    "from sklearn.model_selection import KFold\n"
   ]
  },
  {
   "cell_type": "code",
   "execution_count": 2,
   "metadata": {},
   "outputs": [],
   "source": [
    "train_json = []\n",
    "num_of_folds = 5"
   ]
  },
  {
   "cell_type": "code",
   "execution_count": 3,
   "metadata": {},
   "outputs": [
    {
     "data": {
      "text/plain": [
       "56"
      ]
     },
     "execution_count": 3,
     "metadata": {},
     "output_type": "execute_result"
    }
   ],
   "source": [
    "json_save_dir = '/home/ikboljonsobirov/sega/'\n",
    "data_dir = \"/home/ikboljonsobirov/sega/segaorta_resized/\"\n",
    "patients = os.listdir(data_dir)\n",
    "len(patients)"
   ]
  },
  {
   "cell_type": "code",
   "execution_count": 28,
   "metadata": {},
   "outputs": [
    {
     "data": {
      "text/plain": [
       "5"
      ]
     },
     "execution_count": 28,
     "metadata": {},
     "output_type": "execute_result"
    }
   ],
   "source": [
    "patients = patients[:5]\n",
    "len(patients)"
   ]
  },
  {
   "cell_type": "code",
   "execution_count": 4,
   "metadata": {},
   "outputs": [],
   "source": [
    "full_indices = range(len(patients))\n",
    "\n",
    "kf = KFold(n_splits=num_of_folds, shuffle=True, random_state=786)\n",
    "\n",
    "for f in range(num_of_folds):\n",
    "    \n",
    "\n",
    "    train_idx = {}\n",
    "    test_idx = {}\n",
    "\n",
    "    key = 1\n",
    "    for i,j in kf.split(full_indices):\n",
    "        train_idx[key] = i\n",
    "        test_idx[key] = j\n",
    "\n",
    "        key += 1\n",
    "\n",
    "    patients_test = [patients[i] for i in test_idx[f+1]]\n",
    "\n",
    "\n",
    "\n",
    "    for p in patients_test:\n",
    "        train_json_dict = {}\n",
    "        train_json_dict[\"id\"] = p\n",
    "        train_json_dict[\"fold\"] = f\n",
    "        train_json_dict[\"image\"] = (os.path.join(p, (p + \"_ct.nrrd\")))\n",
    "        train_json_dict[\"label\"] = (os.path.join(p, (p + \"_gt.seg.nrrd\")))\n",
    "        train_json.append(train_json_dict)\n"
   ]
  },
  {
   "cell_type": "code",
   "execution_count": 5,
   "metadata": {},
   "outputs": [],
   "source": [
    "train_json_final = {\"training\": train_json}"
   ]
  },
  {
   "cell_type": "code",
   "execution_count": 9,
   "metadata": {},
   "outputs": [],
   "source": [
    "with open(os.path.join(json_save_dir, \"train_json_orig_nrrd.json\"), \"w\") as outfile:\n",
    "    json.dump(train_json_final, outfile, indent=4)"
   ]
  },
  {
   "cell_type": "code",
   "execution_count": null,
   "metadata": {},
   "outputs": [],
   "source": []
  }
 ],
 "metadata": {
  "kernelspec": {
   "display_name": "sega",
   "language": "python",
   "name": "python3"
  },
  "language_info": {
   "codemirror_mode": {
    "name": "ipython",
    "version": 3
   },
   "file_extension": ".py",
   "mimetype": "text/x-python",
   "name": "python",
   "nbconvert_exporter": "python",
   "pygments_lexer": "ipython3",
   "version": "3.9.17"
  },
  "orig_nbformat": 4
 },
 "nbformat": 4,
 "nbformat_minor": 2
}
