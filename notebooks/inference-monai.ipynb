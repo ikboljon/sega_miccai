{
 "cells": [
  {
   "cell_type": "code",
   "execution_count": 1,
   "metadata": {},
   "outputs": [
    {
     "name": "stdout",
     "output_type": "stream",
     "text": [
      "/home/ikboljonsobirov/hecktor/fusion_vit/fusion_vit_project\n"
     ]
    }
   ],
   "source": [
    "cd .."
   ]
  },
  {
   "cell_type": "code",
   "execution_count": 2,
   "metadata": {},
   "outputs": [
    {
     "name": "stderr",
     "output_type": "stream",
     "text": [
      "/home/ikboljonsobirov/.conda/envs/qkv/lib/python3.9/site-packages/tqdm/auto.py:21: TqdmWarning: IProgress not found. Please update jupyter and ipywidgets. See https://ipywidgets.readthedocs.io/en/stable/user_install.html\n",
      "  from .autonotebook import tqdm as notebook_tqdm\n"
     ]
    }
   ],
   "source": [
    "import os\n",
    "import json\n",
    "import shutil\n",
    "import tempfile\n",
    "import time\n",
    "import random\n",
    "import matplotlib.pyplot as plt\n",
    "import numpy as np\n",
    "import nibabel as nib\n",
    "\n",
    "from monai.losses import DiceLoss, DiceCELoss, FocalLoss, GeneralizedDiceFocalLoss\n",
    "from monai.inferers import sliding_window_inference\n",
    "from monai import transforms\n",
    "from monai.transforms import (\n",
    "    AsDiscrete,\n",
    "    Activations,\n",
    "    Compose,\n",
    ")\n",
    "\n",
    "from monai.config import print_config\n",
    "from monai.metrics import DiceMetric\n",
    "from monai.utils.enums import MetricReduction\n",
    "from monai.networks.nets import SwinUNETR, UNet, SegResNet, UNETR\n",
    "from monai import data\n",
    "from monai.metrics import DiceMetric\n",
    "from monai.data import (\n",
    "    DataLoader,\n",
    "    CacheDataset,\n",
    "    load_decathlon_datalist,\n",
    "    decollate_batch,\n",
    ")\n",
    "from functools import partial\n",
    "from src.data.augmentations import *\n",
    "\n",
    "import torch\n",
    "import SimpleITK as sitk\n",
    "from src.models.components.metrics import dice\n",
    "from src.models.components.unetr.unetr import CustomUNETR\n",
    "\n",
    "from einops import rearrange\n"
   ]
  },
  {
   "cell_type": "code",
   "execution_count": 3,
   "metadata": {},
   "outputs": [],
   "source": [
    "class AverageMeter(object):\n",
    "    def __init__(self):\n",
    "        self.reset()\n",
    "\n",
    "    def reset(self):\n",
    "        self.val = 0\n",
    "        self.avg = 0\n",
    "        self.sum = 0\n",
    "        self.count = 0\n",
    "\n",
    "    def update(self, val, n=1):\n",
    "        self.val = val\n",
    "        self.sum += val * n\n",
    "        self.count += n\n",
    "        self.avg = np.where(self.count > 0, self.sum / self.count, self.sum)\n",
    "\n",
    "\n",
    "def datafold_read(datalist, basedir, fold=0, key=\"training\"):\n",
    "    with open(datalist) as f:\n",
    "        json_data = json.load(f)\n",
    "\n",
    "    json_data = json_data[key]\n",
    "\n",
    "    for d in json_data:\n",
    "        for k in d:\n",
    "            if isinstance(d[k], list):\n",
    "                d[k] = [os.path.join(basedir, iv) for iv in d[k]]\n",
    "            elif isinstance(d[k], str):\n",
    "                d[k] = os.path.join(basedir, d[k]) if len(d[k]) > 0 else d[k]\n",
    "\n",
    "    tr = []\n",
    "    val = []\n",
    "    for d in json_data:\n",
    "        if \"fold\" in d and d[\"fold\"] == fold:\n",
    "            val.append(d)\n",
    "        else:\n",
    "            tr.append(d)\n",
    "\n",
    "    return tr, val"
   ]
  },
  {
   "cell_type": "code",
   "execution_count": 4,
   "metadata": {},
   "outputs": [],
   "source": [
    "roi = (96,96,96)"
   ]
  },
  {
   "cell_type": "code",
   "execution_count": 5,
   "metadata": {},
   "outputs": [],
   "source": [
    "class LoadImageTorch:\n",
    "    def __init__(self):\n",
    "        pass\n",
    "    \n",
    "    def __call__(self, path_to_data_dir):\n",
    "        if path_to_data_dir is None:\n",
    "            print('Please provide directory to the data path')\n",
    "        else:\n",
    "            img_data = self.read_torch_file(path_to_data_dir['path'])\n",
    "\n",
    "            return img_data\n",
    "\n",
    "            \n",
    "    @staticmethod\n",
    "    def read_torch_file(path):\n",
    "        img = torch.load(path)\n",
    "        return img\n"
   ]
  },
  {
   "cell_type": "code",
   "execution_count": 102,
   "metadata": {},
   "outputs": [],
   "source": [
    "def get_loader(batch_size, sw_batch_size, data_dir, json_list, fold):\n",
    "    data_dir = data_dir\n",
    "    datalist_json = json_list\n",
    "\n",
    "    train_files, validation_files = datafold_read(datalist=datalist_json, basedir=data_dir, fold=fold)\n",
    "    train_transform = transforms.Compose(\n",
    "        [\n",
    "            LoadImageTorch(),\n",
    "            # LoadImagedMonai(keys=[\"image\",\"image2\", \"label\"], ensure_channel_first = True),\n",
    "            # transforms.SpatialPadd(keys=[\"image\", \"label\"], spatial_size=(roi[0], roi[1], roi[2]), method='end'),\n",
    "            transforms.RandCropByPosNegLabeld(\n",
    "                keys=[\"image\", \"label\"],\n",
    "                label_key=\"label\",\n",
    "                spatial_size=roi,\n",
    "                pos=1,\n",
    "                neg=1,\n",
    "                num_samples=1,\n",
    "                image_key=\"image\",\n",
    "                image_threshold=0,\n",
    "            ),\n",
    "            # transforms.NormalizeIntensityd(keys=\"image\", nonzero=True, channel_wise=True),\n",
    "            # # transforms.ScaleIntensityRanged(keys=[\"image\"], a_min=-1024, a_max=1024, b_min=0.0, b_max=1.0, clip=True),\n",
    "            # # ClipCT(keys=[\"image\"]),\n",
    "\n",
    "            # transforms.RandFlipd(\n",
    "            #     keys=[\"image\", \"label\"],\n",
    "            #     spatial_axis=[0],\n",
    "            #     prob=0.20,\n",
    "            # ),\n",
    "            # transforms.RandFlipd(\n",
    "            #     keys=[\"image\", \"label\"],\n",
    "            #     spatial_axis=[1],\n",
    "            #     prob=0.20,\n",
    "            # ),\n",
    "            # transforms.RandFlipd(\n",
    "            #     keys=[\"image\", \"label\"],\n",
    "            #     spatial_axis=[2],\n",
    "            #     prob=0.20,\n",
    "            # ),\n",
    "            # transforms.RandRotate90d(\n",
    "            #     keys=[\"image\", \"label\"],\n",
    "            #     prob=0.20,\n",
    "            #     max_k=3,\n",
    "            # ),\n",
    "            # transforms.RandShiftIntensityd(\n",
    "            #     keys=[\"image\"],\n",
    "            #     offsets=0.10,\n",
    "            #     prob=0.50,\n",
    "            # ),\n",
    "            # transforms.RandZoomd(   #added new\n",
    "            #     keys=[\"image\", \"label\"],\n",
    "            #     prob = 0.5,\n",
    "            #     min_zoom = 0.85,\n",
    "            #     max_zoom = 1.15,\n",
    "            #     mode = ['area', 'nearest'],\n",
    "            # ),\n",
    "            \n",
    "    \n",
    "            # transforms.RandScaleIntensityd(keys=\"image\", factors=0.1, prob=0.5),\n",
    "            # transforms.RandShiftIntensityd(keys=\"image\", offsets=0.1, prob=0.5),\n",
    "        ]\n",
    "    )\n",
    "\n",
    "    val_transform = transforms.Compose(\n",
    "        [\n",
    "            LoadImageTorch(),\n",
    "            # LoadImagedMonai(keys=[\"image\", \"image2\", \"label\"], ensure_channel_first = True),\n",
    "            # transforms.Orientationd(keys=[\"image\", \"label\"], axcodes=\"RAS\"),\n",
    "            # # transforms.CropForegroundd(keys=[\"image\", \"label\"], source_key=\"image\"),\n",
    "            # # transforms.ScaleIntensityRanged(keys=[\"image\"], a_min=-1024, a_max=1024, b_min=0.0, b_max=1.0, clip=True),\n",
    "            # transforms.NormalizeIntensityd(keys=\"image\", nonzero=True, channel_wise=True),\n",
    "        ]\n",
    "    )\n",
    "    train_ds = data.Dataset(data=train_files, transform=train_transform)\n",
    "\n",
    "\n",
    "    train_loader = data.DataLoader(\n",
    "        train_ds,\n",
    "        batch_size=batch_size,\n",
    "        shuffle=True,\n",
    "        num_workers=8,\n",
    "        pin_memory=True,\n",
    "    )\n",
    "    val_ds = data.Dataset(data=validation_files, transform=val_transform)\n",
    "\n",
    "    val_loader = data.DataLoader(\n",
    "        val_ds,\n",
    "        batch_size=batch_size,\n",
    "        shuffle=False,\n",
    "        num_workers=8,\n",
    "        pin_memory=True,\n",
    "    )\n",
    "\n",
    "    return train_loader, val_loader, train_ds, val_ds"
   ]
  },
  {
   "cell_type": "code",
   "execution_count": 103,
   "metadata": {},
   "outputs": [],
   "source": [
    "root_dir = \"\"\n",
    "\n",
    "\n",
    "data_dir = '/share/nvmedata/ikboljonsobirov/fusion_vit/hecktor2022_torch/'\n",
    "# data_dir_orig = '/Users/ikboljon.sobirov/Documents/sega23/SegAorta/'\n",
    "datalist_json = '/home/ikboljonsobirov/hecktor/fusion_vit/fusion_vit_project/files/train_json_torch.json'\n",
    "batch_size = 2\n",
    "sw_batch_size = 8\n",
    "fold = 0 # 0,1,2,3,4\n",
    "# roi = (64,64,64)\n",
    "infer_overlap = 0.5\n",
    "\n",
    "chkpt_path = '/home/ikboljonsobirov/hecktor/fusion_vit/fusion_vit_project/logs/train/runs/2023-10-27_12-13-58/checkpoints/epoch_076.ckpt'\n",
    "# chkpt_path = '/home/ikboljonsobirov/hecktor/fusion_vit/fusion_vit_project/logs/train/runs/segresnet_fold0/checkpoints/epoch_088.ckpt'"
   ]
  },
  {
   "cell_type": "code",
   "execution_count": 104,
   "metadata": {},
   "outputs": [],
   "source": [
    "train_loader, val_loader, train_ds, val_ds = get_loader(batch_size, sw_batch_size, data_dir, datalist_json, fold)"
   ]
  },
  {
   "cell_type": "code",
   "execution_count": null,
   "metadata": {},
   "outputs": [],
   "source": []
  },
  {
   "cell_type": "code",
   "execution_count": 105,
   "metadata": {},
   "outputs": [],
   "source": [
    "a = next(iter(val_loader))"
   ]
  },
  {
   "cell_type": "code",
   "execution_count": 106,
   "metadata": {},
   "outputs": [
    {
     "data": {
      "text/plain": [
       "(metatensor([0., 1., 2.]),\n",
       " torch.Size([2, 2, 200, 200, 310]),\n",
       " ['CHUV-008', 'MDA-024'])"
      ]
     },
     "execution_count": 106,
     "metadata": {},
     "output_type": "execute_result"
    }
   ],
   "source": [
    "torch.unique(a['seg']), a['ctpt'].shape, a['id']"
   ]
  },
  {
   "cell_type": "code",
   "execution_count": 107,
   "metadata": {},
   "outputs": [
    {
     "data": {
      "text/plain": [
       "<matplotlib.image.AxesImage at 0x7f62df1a8eb0>"
      ]
     },
     "execution_count": 107,
     "metadata": {},
     "output_type": "execute_result"
    },
    {
     "data": {
      "image/png": "[encoded data removed]",
      "text/plain": [
       "<Figure size 640x480 with 1 Axes>"
      ]
     },
     "metadata": {},
     "output_type": "display_data"
    }
   ],
   "source": [
    "plt.imshow(a['ctpt'][0,1,:,:, 150], cmap='gray')"
   ]
  },
  {
   "cell_type": "code",
   "execution_count": 108,
   "metadata": {},
   "outputs": [],
   "source": [
    "def load_model_weights(model, path_to_model_weights):\n",
    "    model_state_dict = torch.load(path_to_model_weights, map_location=lambda storage, loc: storage)\n",
    "    state_dict = model_state_dict['state_dict']\n",
    "    del state_dict['dice_loss.dice.class_weight']\n",
    "    \n",
    "    for key in list(state_dict):\n",
    "        # if dice_loss exists in then state_dict, remove it\n",
    "        # if key != 'dice_loss.dice.class_weight':\n",
    "        \n",
    "\n",
    "        if 'model.' in key:\n",
    "            state_dict[key.replace(\"model.\", \"\")] = state_dict.pop(key)\n",
    "\n",
    "    model.load_state_dict(state_dict)\n",
    "    return model"
   ]
  },
  {
   "cell_type": "code",
   "execution_count": 109,
   "metadata": {},
   "outputs": [],
   "source": [
    "os.environ[\"CUDA_DEVICE_ORDER\"] = \"PCI_BUS_ID\"\n",
    "device = torch.device(\"cuda:3\" if torch.cuda.is_available() else \"cpu\")\n",
    "\n",
    "# model = CustomUNETR(in_channels=2, \n",
    "#                                out_channels=3, \n",
    "#                             #    feature_size=24,\n",
    "#                                img_size=roi,\n",
    "#                                )\n",
    "# model = UNETR(in_channels=2, \n",
    "#                                out_channels=3, \n",
    "#                                img_size=roi)\n",
    "\n",
    "# model = SegResNet(\n",
    "#                             in_channels=2, out_channels=3, init_filters=16)\n",
    "\n",
    "model = SegResNet(\n",
    "                            in_channels=2, \n",
    "                            out_channels=3, \n",
    "                            init_filters=32,\n",
    "                            norm='BATCH', \n",
    "                            blocks_down=(1,2,2,4,4,4), \n",
    "                            blocks_up=(1,1,1,1,1), \n",
    "                            upsample_mode='deconv',)\n",
    "\n",
    "# model = CustomUNETR(in_channels=2, \n",
    "#                                out_channels=1, \n",
    "#                                img_size=roi)\n",
    "\n",
    "model = load_model_weights(model, chkpt_path)\n",
    "\n",
    "model = model.to(device)\n"
   ]
  },
  {
   "cell_type": "code",
   "execution_count": 110,
   "metadata": {},
   "outputs": [],
   "source": [
    "# post_sigmoid = Activations(softmax=True)\n",
    "post_pred = AsDiscrete(argmax=True, to_onehot=3)\n",
    "post_label = AsDiscrete(to_onehot=3)\n",
    "\n",
    "dice_metric = DiceMetric(include_background=False, reduction=\"mean\", get_not_nans=False)\n",
    "dice_metric_batch = DiceMetric(include_background=False, reduction=\"mean_batch\")\n",
    "# dice_acc = DiceMetric(include_background=False, reduction=\"mean\",get_not_nans=True)\n",
    "# model_inferer = partial(\n",
    "#     sliding_window_inference,\n",
    "#     roi_size=[roi[0], roi[1], roi[2]],\n",
    "#     sw_batch_size=sw_batch_size,\n",
    "#     predictor=model,\n",
    "#     overlap=infer_overlap,\n",
    "# )\n",
    "\n"
   ]
  },
  {
   "cell_type": "code",
   "execution_count": 111,
   "metadata": {},
   "outputs": [],
   "source": [
    "# dice_metric = DiceMetric(include_background=False, reduction=\"mean\", get_not_nans=True)"
   ]
  },
  {
   "cell_type": "code",
   "execution_count": 112,
   "metadata": {},
   "outputs": [],
   "source": [
    "metric_dictionary = {}\n",
    "metric_dictionary['id'] = []\n",
    "metric_dictionary['dice'] = []\n",
    "metric_dictionary['dice_t'] = []\n",
    "metric_dictionary['dice_n'] = []"
   ]
  },
  {
   "cell_type": "code",
   "execution_count": 113,
   "metadata": {},
   "outputs": [],
   "source": [
    "pred_list = []\n",
    "label_list = []"
   ]
  },
  {
   "cell_type": "code",
   "execution_count": 114,
   "metadata": {},
   "outputs": [
    {
     "name": "stdout",
     "output_type": "stream",
     "text": [
      "metatensor([0., 1., 2.], device='cuda:3') torch.Size([2, 1, 200, 200, 310]) CHUV-008\n",
      "Processing:  CHUV-008  Dice:  0.7702665328979492\n",
      "metatensor([0., 1., 2.], device='cuda:3') torch.Size([2, 1, 200, 200, 310]) CHUS-052\n",
      "Processing:  CHUS-052  Dice:  0.7330507040023804\n",
      "metatensor([0., 1., 2.], device='cuda:3') torch.Size([2, 1, 200, 200, 310]) CHUS-049\n",
      "Processing:  CHUS-049  Dice:  0.6427240371704102\n",
      "metatensor([0., 1., 2.], device='cuda:3') torch.Size([2, 1, 200, 200, 310]) MDA-028\n",
      "Processing:  MDA-028  Dice:  0.6795116662979126\n",
      "metatensor([0., 1., 2.], device='cuda:3') torch.Size([2, 1, 200, 200, 310]) MDA-023\n",
      "Processing:  MDA-023  Dice:  0.5785760879516602\n",
      "metatensor([0., 1.], device='cuda:3') torch.Size([2, 1, 200, 200, 310]) CHUP-068\n",
      "Processing:  CHUP-068  Dice:  0.7767137885093689\n",
      "metatensor([0., 1., 2.], device='cuda:3') torch.Size([2, 1, 200, 200, 310]) CHUS-078\n",
      "Processing:  CHUS-078  Dice:  0.4128858149051666\n",
      "metatensor([0., 1., 2.], device='cuda:3') torch.Size([2, 1, 200, 200, 310]) MDA-049\n",
      "Processing:  MDA-049  Dice:  0.5853634476661682\n",
      "metatensor([0., 1., 2.], device='cuda:3') torch.Size([2, 1, 200, 200, 310]) MDA-121\n",
      "Processing:  MDA-121  Dice:  0.6283587217330933\n",
      "metatensor([0., 1., 2.], device='cuda:3') torch.Size([2, 1, 200, 200, 310]) MDA-106\n",
      "Processing:  MDA-106  Dice:  0.7039855718612671\n",
      "metatensor([0., 1., 2.], device='cuda:3') torch.Size([2, 1, 200, 200, 310]) HMR-021\n",
      "Processing:  HMR-021  Dice:  0.6820811629295349\n",
      "metatensor([0., 1., 2.], device='cuda:3') torch.Size([2, 1, 200, 200, 310]) CHUP-004\n",
      "Processing:  CHUP-004  Dice:  0.5645256042480469\n",
      "metatensor([0., 1., 2.], device='cuda:3') torch.Size([2, 1, 200, 200, 310]) CHUS-030\n",
      "Processing:  CHUS-030  Dice:  0.45048093795776367\n",
      "metatensor([0., 1., 2.], device='cuda:3') torch.Size([2, 1, 200, 200, 310]) CHUM-054\n",
      "Processing:  CHUM-054  Dice:  0.3433496057987213\n",
      "metatensor([0., 1., 2.], device='cuda:3') torch.Size([2, 1, 200, 200, 310]) CHUS-016\n",
      "Processing:  CHUS-016  Dice:  0.7806686162948608\n",
      "metatensor([0., 1., 2.], device='cuda:3') torch.Size([2, 1, 200, 200, 310]) CHUP-012\n",
      "Processing:  CHUP-012  Dice:  0.6780904531478882\n",
      "metatensor([0., 1., 2.], device='cuda:3') torch.Size([2, 1, 200, 200, 310]) HMR-005\n",
      "Processing:  HMR-005  Dice:  0.7255275249481201\n",
      "metatensor([0., 1., 2.], device='cuda:3') torch.Size([2, 1, 200, 200, 310]) CHUS-005\n",
      "Processing:  CHUS-005  Dice:  0.5709165334701538\n",
      "metatensor([0., 1., 2.], device='cuda:3') torch.Size([2, 1, 200, 200, 310]) CHUM-014\n",
      "Processing:  CHUM-014  Dice:  0.5902256369590759\n",
      "metatensor([0., 1., 2.], device='cuda:3') torch.Size([2, 1, 200, 200, 310]) MDA-053\n",
      "Processing:  MDA-053  Dice:  0.8175513744354248\n",
      "metatensor([0., 1.], device='cuda:3') torch.Size([2, 1, 200, 200, 310]) CHUV-007\n",
      "Processing:  CHUV-007  Dice:  0.7398184537887573\n",
      "metatensor([0., 1., 2.], device='cuda:3') torch.Size([2, 1, 200, 200, 310]) MDA-122\n",
      "Processing:  MDA-122  Dice:  0.7891021966934204\n",
      "metatensor([0., 1., 2.], device='cuda:3') torch.Size([2, 1, 200, 200, 310]) CHUP-018\n",
      "Processing:  CHUP-018  Dice:  0.5276137590408325\n",
      "metatensor([0., 1., 2.], device='cuda:3') torch.Size([2, 1, 200, 200, 310]) HGJ-083\n",
      "Processing:  HGJ-083  Dice:  0.6835483312606812\n",
      "metatensor([0., 1., 2.], device='cuda:3') torch.Size([2, 1, 200, 200, 310]) CHUV-038\n",
      "Processing:  CHUV-038  Dice:  0.7449984550476074\n",
      "metatensor([0., 1., 2.], device='cuda:3') torch.Size([2, 1, 200, 200, 310]) CHUP-046\n",
      "Processing:  CHUP-046  Dice:  0.3380890488624573\n",
      "metatensor([0., 1., 2.], device='cuda:3') torch.Size([2, 1, 200, 200, 310]) CHUS-022\n",
      "Processing:  CHUS-022  Dice:  0.7822108268737793\n",
      "metatensor([0., 1., 2.], device='cuda:3') torch.Size([2, 1, 200, 200, 310]) HGJ-029\n",
      "Processing:  HGJ-029  Dice:  0.6674001216888428\n",
      "metatensor([0., 1., 2.], device='cuda:3') torch.Size([2, 1, 200, 200, 310]) CHUS-040\n",
      "Processing:  CHUS-040  Dice:  0.6288080215454102\n",
      "metatensor([0., 1., 2.], device='cuda:3') torch.Size([2, 1, 200, 200, 310]) MDA-167\n",
      "Processing:  MDA-167  Dice:  0.8472737669944763\n",
      "metatensor([0., 1., 2.], device='cuda:3') torch.Size([2, 1, 200, 200, 310]) HMR-004\n",
      "Processing:  HMR-004  Dice:  0.744985818862915\n",
      "metatensor([0., 1., 2.], device='cuda:3') torch.Size([2, 1, 200, 200, 310]) HGJ-077\n",
      "Processing:  HGJ-077  Dice:  0.5920886993408203\n",
      "metatensor([0., 1., 2.], device='cuda:3') torch.Size([2, 1, 200, 200, 310]) CHUP-064\n",
      "Processing:  CHUP-064  Dice:  0.5736116170883179\n",
      "metatensor([0., 1., 2.], device='cuda:3') torch.Size([2, 1, 200, 200, 310]) CHUV-050\n",
      "Processing:  CHUV-050  Dice:  0.6961945295333862\n",
      "metatensor([0., 1., 2.], device='cuda:3') torch.Size([2, 1, 200, 200, 310]) MDA-128\n",
      "Processing:  MDA-128  Dice:  0.6330022811889648\n",
      "metatensor([0., 1., 2.], device='cuda:3') torch.Size([2, 1, 200, 200, 310]) CHUS-036\n",
      "Processing:  CHUS-036  Dice:  0.6136014461517334\n",
      "metatensor([0., 1., 2.], device='cuda:3') torch.Size([2, 1, 200, 200, 310]) MDA-027\n",
      "Processing:  MDA-027  Dice:  0.7553128004074097\n",
      "metatensor([0., 1., 2.], device='cuda:3') torch.Size([2, 1, 200, 200, 310]) CHUV-052\n",
      "Processing:  CHUV-052  Dice:  0.7638571262359619\n",
      "metatensor([0., 1., 2.], device='cuda:3') torch.Size([2, 1, 200, 200, 310]) MDA-185\n",
      "Processing:  MDA-185  Dice:  0.5786625146865845\n",
      "metatensor([0., 1., 2.], device='cuda:3') torch.Size([2, 1, 200, 200, 310]) CHUM-041\n",
      "Processing:  CHUM-041  Dice:  0.5357910394668579\n",
      "metatensor([0., 1., 2.], device='cuda:3') torch.Size([2, 1, 200, 200, 310]) CHUV-010\n",
      "Processing:  CHUV-010  Dice:  0.2343873828649521\n",
      "metatensor([0., 1., 2.], device='cuda:3') torch.Size([2, 1, 200, 200, 310]) MDA-081\n",
      "Processing:  MDA-081  Dice:  0.664168119430542\n",
      "metatensor([0., 1., 2.], device='cuda:3') torch.Size([2, 1, 200, 200, 310]) MDA-117\n",
      "Processing:  MDA-117  Dice:  0.7574875950813293\n",
      "metatensor([0., 1., 2.], device='cuda:3') torch.Size([2, 1, 200, 200, 310]) MDA-072\n",
      "Processing:  MDA-072  Dice:  0.7915029525756836\n",
      "metatensor([0., 1., 2.], device='cuda:3') torch.Size([2, 1, 200, 200, 310]) CHUP-063\n",
      "Processing:  CHUP-063  Dice:  0.66632080078125\n",
      "metatensor([0., 1., 2.], device='cuda:3') torch.Size([2, 1, 200, 200, 310]) CHUP-033\n",
      "Processing:  CHUP-033  Dice:  0.23942750692367554\n",
      "metatensor([0., 1., 2.], device='cuda:3') torch.Size([2, 1, 200, 200, 310]) CHUV-029\n",
      "Processing:  CHUV-029  Dice:  0.7276127338409424\n",
      "metatensor([0., 1., 2.], device='cuda:3') torch.Size([2, 1, 200, 200, 310]) MDA-153\n",
      "Processing:  MDA-153  Dice:  0.8035033941268921\n",
      "metatensor([0., 1., 2.], device='cuda:3') torch.Size([2, 1, 200, 200, 310]) CHUP-025\n",
      "Processing:  CHUP-025  Dice:  0.6361931562423706\n",
      "metatensor([0., 1., 2.], device='cuda:3') torch.Size([2, 1, 200, 200, 310]) HGJ-090\n",
      "Processing:  HGJ-090  Dice:  0.5217524766921997\n",
      "metatensor([0., 1., 2.], device='cuda:3') torch.Size([2, 1, 200, 200, 310]) MDA-091\n",
      "Processing:  MDA-091  Dice:  0.47674667835235596\n",
      "metatensor([0., 1., 2.], device='cuda:3') torch.Size([2, 1, 200, 200, 310]) CHUV-045\n",
      "Processing:  CHUV-045  Dice:  0.7697317600250244\n",
      "metatensor([0., 1., 2.], device='cuda:3') torch.Size([1, 1, 200, 200, 310]) MDA-149\n",
      "Processing:  MDA-149  Dice:  0.7811563014984131\n"
     ]
    }
   ],
   "source": [
    "model.eval()\n",
    "# run_acc = AverageMeter()\n",
    "# start_time = time.time()\n",
    "# inference_times = []\n",
    "# orig_path = \"segaorta\"\n",
    "counter = 0\n",
    "\n",
    "inference_path = \"/share/nvmedata/ikboljonsobirov/fusion_vit/inference/\"\n",
    "os.makedirs(inference_path, exist_ok=True)\n",
    "\n",
    "run_acc_val = AverageMeter()\n",
    "\n",
    "with torch.no_grad():\n",
    "    for idx, sample in enumerate(val_loader):\n",
    "        counter += 1\n",
    "\n",
    "        pat_id = sample['id'][0].split('/')[-1]\n",
    "        \n",
    "        val_inputs, val_labels = sample[\"ctpt\"].to(device), sample[\"seg\"].to(device)\n",
    "\n",
    "        print(torch.unique(val_labels), val_labels.shape, pat_id)\n",
    "        # break\n",
    "\n",
    "        logits = sliding_window_inference(val_inputs, roi, 4, model, infer_overlap)\n",
    "        \n",
    "        val_labels_list = decollate_batch(val_labels)\n",
    "        val_labels_convert = [post_label(val_label_tensor) for val_label_tensor in val_labels_list]\n",
    "        \n",
    "        val_outputs_list = decollate_batch(logits)\n",
    "\n",
    "        val_output_convert = [post_pred(val_pred_tensor) for val_pred_tensor in val_outputs_list]\n",
    "\n",
    "        # print(\"logits: \", logits.shape)\n",
    "        # print(\"val_labels: \", val_labels.shape)\n",
    "        # print(\"after\")\n",
    "        # print(\"after oist processing pred: \", val_output_convert[0].shape)\n",
    "        # print(\"after oist processing label: \", val_labels_convert[0].shape)\n",
    "        # break\n",
    "        \n",
    "\n",
    "        dice_metric(y_pred=val_output_convert, y=val_labels_convert)\n",
    "        dice_metric_batch(y_pred=val_output_convert, y=val_labels_convert)\n",
    "\n",
    "        mean_dice_val = dice_metric.aggregate().item()\n",
    "        metric_batch_val = dice_metric_batch.aggregate()\n",
    "\n",
    "        metric_tumor = metric_batch_val[0].item()\n",
    "        metric_lymph = metric_batch_val[1].item()\n",
    "\n",
    "        dice_metric.reset()\n",
    "        dice_metric_batch.reset()\n",
    "\n",
    "        # break\n",
    "\n",
    "        \n",
    "        \n",
    "        pat_id = sample['id'][0].split('/')[-1]\n",
    "        print(\"Processing: \", pat_id, \" Dice: \", mean_dice_val)\n",
    "\n",
    "        metric_dictionary['id'].append(pat_id)\n",
    "        metric_dictionary['dice'].append(mean_dice_val)\n",
    "        metric_dictionary['dice_t'].append(metric_tumor)\n",
    "        metric_dictionary['dice_n'].append(metric_lymph)\n",
    "\n",
    "        # break\n",
    "        \n",
    "        # # break\n",
    "        # val_outputs = sliding_window_inference(val_inputs, roi, sw_batch_size, model)\n",
    "        # y_pred = post_sigmoid(val_outputs)\n",
    "        # # val_labels = post_label(val_labels)\n",
    "\n",
    "        # # y_pred = torch.where(val_outputs>0.5, 1, 0).float()\n",
    "        # # y_pred = y_pred.squeeze(0)\n",
    "        # dsc = dice_metric(y_pred.detach(), val_labels.detach())\n",
    "        # print(dsc)\n",
    "        # break\n",
    "        merged_channels_pred = torch.argmax(val_output_convert[0], dim=0)\n",
    "        sitk_pred = merged_channels_pred.cpu().numpy()\n",
    "        merged_channels_label = torch.argmax(val_labels_convert[0], dim=0)\n",
    "        sitk_label = merged_channels_label.cpu().numpy()\n",
    "\n",
    "        pred_list.append(sitk_pred)\n",
    "        label_list.append(sitk_label)\n",
    "        sitk_pred = rearrange(sitk_pred, 'h w d -> d h w')\n",
    "        \n",
    "        sitk_pred = sitk.GetImageFromArray(sitk_pred)\n",
    "        \n",
    "        if not os.path.exists(os.path.join(inference_path, pat_id)):\n",
    "                    os.makedirs(os.path.join(inference_path, pat_id), exist_ok=True)\n",
    "\n",
    "        # sitk.WriteImage(sitk_pred,  os.path.join(inference_path, pat_id, (pat_id +'_pred.seg.nrrd')), useCompression=True)\n",
    "        # if counter == 3:\n",
    "        # break\n",
    "        "
   ]
  },
  {
   "cell_type": "code",
   "execution_count": 115,
   "metadata": {},
   "outputs": [],
   "source": [
    "# # plot the sitk_pred mask and ctpt side by side\n",
    "# plt.figure(figsize=(20,10))\n",
    "# plt.subplot(1,2,1)\n",
    "# plt.imshow(sitk_pred[:,:,150], cmap='gray')\n",
    "# plt.subplot(1,2,2)\n",
    "# plt.imshow(a['ctpt'][0,1,:,:, 150], cmap='gray')\n",
    "# plt.show()\n",
    "\n"
   ]
  },
  {
   "cell_type": "code",
   "execution_count": 116,
   "metadata": {},
   "outputs": [],
   "source": [
    "# # plot sitk_pred prediction mask on top of the ct image slice\n",
    "# plt.imshow(sitk_pred[:,:,150], cmap='gray')\n",
    "# plt.imshow(a['ctpt'][0,1,:,:, 150], cmap='gray', alpha=0.4)\n"
   ]
  },
  {
   "cell_type": "code",
   "execution_count": 117,
   "metadata": {},
   "outputs": [
    {
     "data": {
      "text/plain": [
       "(0.6419021799316946, 0.671412597287376, 0.5868565635579936)"
      ]
     },
     "execution_count": 117,
     "metadata": {},
     "output_type": "execute_result"
    }
   ],
   "source": [
    "np.mean(metric_dictionary['dice']), np.mean(metric_dictionary['dice_t']), np.mean(metric_dictionary['dice_n'])"
   ]
  },
  {
   "cell_type": "markdown",
   "metadata": {},
   "source": [
    "(0.59503865, 0.63700664, 0.55307066)\n"
   ]
  },
  {
   "cell_type": "code",
   "execution_count": 118,
   "metadata": {},
   "outputs": [],
   "source": [
    "def dice_hecktor(pred_list, label_list):\n",
    "    agg_dsc = []\n",
    "\n",
    "    for i in range(1, 3):\n",
    "        for pred, label in zip(pred_list, label_list):\n",
    "            numerator, denominator = None, None\n",
    "\n",
    "            organ_arr_result = np.where(pred == i, 1, 0)\n",
    "            organ_arr_refer = np.where(label == i, 1, 0)\n",
    "\n",
    "            curr_numerator = np.sum(np.multiply(organ_arr_result, organ_arr_refer))\n",
    "            curr_denominator = np.sum(organ_arr_result + organ_arr_refer)\n",
    "\n",
    "            if numerator is None:\n",
    "                numerator = curr_numerator\n",
    "                denominator = curr_denominator\n",
    "            else:\n",
    "                numerator += curr_numerator\n",
    "                denominator += curr_denominator\n",
    "\n",
    "        agg_dsc.append(2 * numerator / denominator)\n",
    "\n",
    "    agg_dsc_GTVp = agg_dsc[0]\n",
    "    agg_dsc_GTVn = agg_dsc[1]\n",
    "    avg_dsc = (agg_dsc_GTVp + agg_dsc_GTVn) / 2\n",
    "\n",
    "    return agg_dsc_GTVp, agg_dsc_GTVn, avg_dsc\n"
   ]
  },
  {
   "cell_type": "code",
   "execution_count": 119,
   "metadata": {},
   "outputs": [],
   "source": [
    "a, b, c = dice_hecktor(pred_list, label_list)"
   ]
  },
  {
   "cell_type": "code",
   "execution_count": 120,
   "metadata": {},
   "outputs": [
    {
     "name": "stdout",
     "output_type": "stream",
     "text": [
      "GTVp:  0.8514895650788593  GTVn:  0.7108230961765298  Avg:  0.7811563306276945\n"
     ]
    }
   ],
   "source": [
    "print(\"GTVp: \", a, \" GTVn: \", b, \" Avg: \", c)"
   ]
  },
  {
   "cell_type": "code",
   "execution_count": 121,
   "metadata": {},
   "outputs": [],
   "source": [
    "def compute_agg_dice(intermediate_results):\n",
    "    \"\"\"\n",
    "    Compute the aggregate dice score from the intermediate results\n",
    "    \"\"\"\n",
    "    aggregate_results = {}\n",
    "    TP1s = [v[\"TP1\"] for v in intermediate_results]\n",
    "    TP2s = [v[\"TP2\"] for v in intermediate_results]\n",
    "    vol_sum1s = [v[\"vol_sum1\"] for v in intermediate_results]\n",
    "    vol_sum2s = [v[\"vol_sum2\"] for v in intermediate_results]\n",
    "    DSCagg1 = 2 * np.sum(TP1s) / np.sum(vol_sum1s)\n",
    "    DSCagg2 = 2 * np.sum(TP2s) / np.sum(vol_sum2s)\n",
    "    aggregate_results['AggregatedDsc'] = {\n",
    "        'GTVp': DSCagg1,\n",
    "        'GTVn': DSCagg2,\n",
    "        'mean': np.mean((DSCagg1, DSCagg2)),\n",
    "    }\n",
    "\n",
    "    return aggregate_results\n",
    "\n",
    "def compute_volumes(im):\n",
    "    \"\"\"\n",
    "    Compute the volumes of the GTVp and the GTVn\n",
    "    \"\"\"\n",
    "    spacing = im.GetSpacing()\n",
    "    voxvol = spacing[0] * spacing[1] * spacing[2]\n",
    "    stats = sitk.LabelStatisticsImageFilter()\n",
    "    stats.Execute(im, im)\n",
    "    nvoxels1 = stats.GetCount(1)\n",
    "    nvoxels2 = stats.GetCount(2)\n",
    "    return nvoxels1 * voxvol, nvoxels2 * voxvol\n",
    "\n",
    "\n",
    "def get_intermediate_metrics(groundtruth, prediction):\n",
    "    \"\"\"\n",
    "    Compute intermediate metrics for a given groundtruth and prediction.\n",
    "    These metrics are used to compute the aggregate dice.\n",
    "    \"\"\"\n",
    "    groundtruth = sitk.GetImageFromArray(groundtruth)\n",
    "    prediction = sitk.GetImageFromArray(prediction)\n",
    "    \n",
    "    overlap_measures = sitk.LabelOverlapMeasuresImageFilter()\n",
    "    overlap_measures.SetNumberOfThreads(1)\n",
    "    overlap_measures.Execute(groundtruth, prediction)\n",
    "\n",
    "    DSC1 = overlap_measures.GetDiceCoefficient(1)\n",
    "    DSC2 = overlap_measures.GetDiceCoefficient(2)\n",
    "\n",
    "    vol_gt1, vol_gt2 = compute_volumes(groundtruth)\n",
    "    vol_pred1, vol_pred2 = compute_volumes(prediction)\n",
    "\n",
    "    vol_sum1 = vol_gt1 + vol_pred1\n",
    "    vol_sum2 = vol_gt2 + vol_pred2\n",
    "    TP1 = DSC1 * (vol_sum1) / 2\n",
    "    TP2 = DSC2 * (vol_sum2) / 2\n",
    "    return {\n",
    "        \"TP1\": TP1,\n",
    "        \"TP2\": TP2,\n",
    "        \"vol_sum1\": vol_sum1,\n",
    "        \"vol_sum2\": vol_sum2,\n",
    "    }\n"
   ]
  },
  {
   "cell_type": "code",
   "execution_count": 122,
   "metadata": {},
   "outputs": [
    {
     "name": "stderr",
     "output_type": "stream",
     "text": [
      "WARNING: In /tmp/SimpleITK-build/ITK-prefix/include/ITK-5.3/itkLabelOverlapMeasuresImageFilter.hxx, line 233\n",
      "LabelOverlapMeasuresImageFilter (0x7f6400026750): Label 2 not found.\n",
      "\n",
      "WARNING: In /tmp/SimpleITK-build/ITK-prefix/include/ITK-5.3/itkLabelOverlapMeasuresImageFilter.hxx, line 233\n",
      "LabelOverlapMeasuresImageFilter (0x7f6400026750): Label 2 not found.\n",
      "\n",
      "WARNING: In /tmp/SimpleITK-build/ITK-prefix/include/ITK-5.3/itkLabelOverlapMeasuresImageFilter.hxx, line 233\n",
      "LabelOverlapMeasuresImageFilter (0x7f6400026750): Label 2 not found.\n",
      "\n",
      "WARNING: In /tmp/SimpleITK-build/ITK-prefix/include/ITK-5.3/itkLabelOverlapMeasuresImageFilter.hxx, line 233\n",
      "LabelOverlapMeasuresImageFilter (0x7f6400026750): Label 2 not found.\n",
      "\n"
     ]
    }
   ],
   "source": [
    "new_dices = []\n",
    "for l, p in zip(label_list, pred_list):\n",
    "    new_dices.append(get_intermediate_metrics(l, p))\n",
    "    "
   ]
  },
  {
   "cell_type": "code",
   "execution_count": 123,
   "metadata": {},
   "outputs": [
    {
     "name": "stdout",
     "output_type": "stream",
     "text": [
      "{'AggregatedDsc': {'GTVp': 0.8069137628246603, 'GTVn': 0.7372585466328402, 'mean': 0.7720861547287503}}\n"
     ]
    }
   ],
   "source": [
    "print(compute_agg_dice(new_dices))"
   ]
  },
  {
   "cell_type": "code",
   "execution_count": 55,
   "metadata": {},
   "outputs": [],
   "source": [
    "dicess = compute_agg_dice(new_dices)"
   ]
  },
  {
   "cell_type": "code",
   "execution_count": 56,
   "metadata": {},
   "outputs": [
    {
     "data": {
      "text/plain": [
       "0.7407033200595364"
      ]
     },
     "execution_count": 56,
     "metadata": {},
     "output_type": "execute_result"
    }
   ],
   "source": [
    "dicess['AggregatedDsc']['mean']"
   ]
  },
  {
   "cell_type": "code",
   "execution_count": null,
   "metadata": {},
   "outputs": [],
   "source": []
  }
 ],
 "metadata": {
  "kernelspec": {
   "display_name": "sega",
   "language": "python",
   "name": "python3"
  },
  "language_info": {
   "codemirror_mode": {
    "name": "ipython",
    "version": 3
   },
   "file_extension": ".py",
   "mimetype": "text/x-python",
   "name": "python",
   "nbconvert_exporter": "python",
   "pygments_lexer": "ipython3",
   "version": "3.9.18"
  },
  "orig_nbformat": 4
 },
 "nbformat": 4,
 "nbformat_minor": 2
}
