{
 "cells": [
  {
   "cell_type": "code",
   "execution_count": 6,
   "metadata": {},
   "outputs": [
    {
     "name": "stdout",
     "output_type": "stream",
     "text": [
      "/home/ikboljonsobirov/sega/sega_miccai-1\n"
     ]
    }
   ],
   "source": [
    "cd .."
   ]
  },
  {
   "cell_type": "code",
   "execution_count": 24,
   "metadata": {},
   "outputs": [],
   "source": [
    "import os\n",
    "import json\n",
    "import shutil\n",
    "import tempfile\n",
    "import time\n",
    "import random\n",
    "import matplotlib.pyplot as plt\n",
    "import numpy as np\n",
    "import nibabel as nib\n",
    "\n",
    "from monai.losses import DiceLoss, DiceCELoss, FocalLoss, GeneralizedDiceFocalLoss\n",
    "from monai.inferers import sliding_window_inference\n",
    "from monai import transforms\n",
    "from monai.transforms import (\n",
    "    AsDiscrete,\n",
    "    Activations,\n",
    "    Compose,\n",
    ")\n",
    "\n",
    "from monai.config import print_config\n",
    "from monai.metrics import DiceMetric\n",
    "from monai.utils.enums import MetricReduction\n",
    "from monai.networks.nets import SwinUNETR, UNet, SegResNet\n",
    "from monai import data\n",
    "from monai.data import (\n",
    "    DataLoader,\n",
    "    CacheDataset,\n",
    "    load_decathlon_datalist,\n",
    "    decollate_batch,\n",
    ")\n",
    "from functools import partial\n",
    "from src.data.augmentations import *\n",
    "\n",
    "import torch\n",
    "import SimpleITK as sitk\n",
    "from src.models.components.metrics import dice\n",
    "\n"
   ]
  },
  {
   "cell_type": "code",
   "execution_count": 8,
   "metadata": {},
   "outputs": [],
   "source": [
    "def get_attributes(sitk_image):\n",
    "    \"\"\"Get physical space attributes (meta-data) of the image.\"\"\"\n",
    "    attributes = {}\n",
    "    attributes['orig_pixelid'] = sitk_image.GetPixelIDValue()\n",
    "    attributes['orig_origin'] = sitk_image.GetOrigin()\n",
    "    attributes['orig_direction'] = sitk_image.GetDirection()\n",
    "    attributes['orig_spacing'] = np.array(sitk_image.GetSpacing())\n",
    "    attributes['orig_size'] = np.array(sitk_image.GetSize(), dtype=int)\n",
    "    return attributes\n",
    "\n",
    "\n",
    "def resample_sitk_image(original, to_convert,\n",
    "                        interpolator=sitk.sitkLinear,\n",
    "                        new_size=None,\n",
    "                        fill_value=0):\n",
    "\n",
    "    sitk_interpolator = interpolator\n",
    "    # provided attributes:\n",
    "    attributes = get_attributes(original)\n",
    "    orig_pixelid = attributes['orig_pixelid']\n",
    "    orig_origin = attributes['orig_origin']\n",
    "    orig_direction = attributes['orig_direction']\n",
    "    orig_spacing = attributes['orig_spacing']\n",
    "    orig_size = attributes['orig_size']\n",
    "\n",
    "    if not new_size:\n",
    "        new_size = orig_size * (orig_spacing / orig_spacing)\n",
    "        new_size = np.ceil(new_size).astype(int)  # Image dimensions are in integers\n",
    "        new_size = [int(s) for s in new_size]  # SimpleITK expects lists, not ndarrays\n",
    "\n",
    "    resample_filter = sitk.ResampleImageFilter()\n",
    "    resample_filter.SetSize(new_size)\n",
    "    resample_filter.SetTransform(sitk.Transform())\n",
    "    resample_filter.SetInterpolator(sitk_interpolator)\n",
    "    resample_filter.SetOutputOrigin(orig_origin)\n",
    "    resample_filter.SetOutputSpacing(orig_spacing)\n",
    "    resample_filter.SetOutputDirection(orig_direction)\n",
    "    resample_filter.SetDefaultPixelValue(fill_value)\n",
    "    resample_filter.SetOutputPixelType(orig_pixelid)\n",
    "\n",
    "    resampled_sitk_image = resample_filter.Execute(to_convert)\n",
    "    return resampled_sitk_image\n",
    "\n"
   ]
  },
  {
   "cell_type": "code",
   "execution_count": 9,
   "metadata": {},
   "outputs": [],
   "source": [
    "class AverageMeter(object):\n",
    "    def __init__(self):\n",
    "        self.reset()\n",
    "\n",
    "    def reset(self):\n",
    "        self.val = 0\n",
    "        self.avg = 0\n",
    "        self.sum = 0\n",
    "        self.count = 0\n",
    "\n",
    "    def update(self, val, n=1):\n",
    "        self.val = val\n",
    "        self.sum += val * n\n",
    "        self.count += n\n",
    "        self.avg = np.where(self.count > 0, self.sum / self.count, self.sum)\n",
    "\n",
    "\n",
    "def datafold_read(datalist, basedir, fold=0, key=\"training\"):\n",
    "    with open(datalist) as f:\n",
    "        json_data = json.load(f)\n",
    "\n",
    "    json_data = json_data[key]\n",
    "\n",
    "    for d in json_data:\n",
    "        for k in d:\n",
    "            if isinstance(d[k], list):\n",
    "                d[k] = [os.path.join(basedir, iv) for iv in d[k]]\n",
    "            elif isinstance(d[k], str):\n",
    "                d[k] = os.path.join(basedir, d[k]) if len(d[k]) > 0 else d[k]\n",
    "       \n",
    "    tr = []\n",
    "    val = []\n",
    "    for d in json_data:\n",
    "        if \"fold\" in d and d[\"fold\"] == fold:\n",
    "            val.append(d)\n",
    "        else:\n",
    "            tr.append(d)\n",
    "\n",
    "    return tr, val"
   ]
  },
  {
   "cell_type": "code",
   "execution_count": 10,
   "metadata": {},
   "outputs": [],
   "source": [
    "roi = (128,128,128)"
   ]
  },
  {
   "cell_type": "code",
   "execution_count": 35,
   "metadata": {},
   "outputs": [],
   "source": [
    "def get_loader(batch_size, sw_batch_size, data_dir, json_list, fold):\n",
    "    data_dir = data_dir\n",
    "    datalist_json = json_list\n",
    "\n",
    "    train_files, validation_files = datafold_read(datalist=datalist_json, basedir=data_dir, fold=fold)\n",
    "    train_transform = transforms.Compose(\n",
    "        [\n",
    "            LoadImagedMonai(keys=[\"image\", \"label\"], ensure_channel_first = True),\n",
    "            # transforms.SpatialPadd(keys=[\"image\", \"label\"], spatial_size=(176,176,176), method='end'),\n",
    "            # transforms.Orientationd(keys=[\"image\", \"label\"], axcodes=\"RAS\"),\n",
    "            # transforms.CropForegroundd(keys=[\"image\", \"label\"], source_key=\"image\"),\n",
    "\n",
    "            transforms.RandCropByPosNegLabeld(\n",
    "                keys=[\"image\", \"label\"],\n",
    "                label_key=\"label\",\n",
    "                spatial_size=roi,\n",
    "                pos=1,\n",
    "                neg=1,\n",
    "                num_samples=6,\n",
    "                image_key=\"image\",\n",
    "                image_threshold=0,\n",
    "            ),\n",
    "            # transforms.NormalizeIntensityd(keys=\"image\", nonzero=True, channel_wise=True),\n",
    "            # # transforms.ScaleIntensityRanged(keys=[\"image\"], a_min=-1024, a_max=1024, b_min=0.0, b_max=1.0, clip=True),\n",
    "            # # ClipCT(keys=[\"image\"]),\n",
    "\n",
    "            # transforms.RandFlipd(\n",
    "            #     keys=[\"image\", \"label\"],\n",
    "            #     spatial_axis=[0],\n",
    "            #     prob=0.20,\n",
    "            # ),\n",
    "            # transforms.RandFlipd(\n",
    "            #     keys=[\"image\", \"label\"],\n",
    "            #     spatial_axis=[1],\n",
    "            #     prob=0.20,\n",
    "            # ),\n",
    "            # transforms.RandFlipd(\n",
    "            #     keys=[\"image\", \"label\"],\n",
    "            #     spatial_axis=[2],\n",
    "            #     prob=0.20,\n",
    "            # ),\n",
    "            # transforms.RandRotate90d(\n",
    "            #     keys=[\"image\", \"label\"],\n",
    "            #     prob=0.20,\n",
    "            #     max_k=3,\n",
    "            # ),\n",
    "            # transforms.RandShiftIntensityd(\n",
    "            #     keys=[\"image\"],\n",
    "            #     offsets=0.10,\n",
    "            #     prob=0.50,\n",
    "            # ),\n",
    "            # transforms.RandZoomd(   #added new\n",
    "            #     keys=[\"image\", \"label\"],\n",
    "            #     prob = 0.5,\n",
    "            #     min_zoom = 0.85,\n",
    "            #     max_zoom = 1.15,\n",
    "            #     mode = ['area', 'nearest'],\n",
    "            # ),\n",
    "            \n",
    "    \n",
    "            # transforms.RandScaleIntensityd(keys=\"image\", factors=0.1, prob=0.5),\n",
    "            # transforms.RandShiftIntensityd(keys=\"image\", offsets=0.1, prob=0.5),\n",
    "        ]\n",
    "    )\n",
    "\n",
    "    val_transform = transforms.Compose(\n",
    "        [\n",
    "            LoadImagedMonai(keys=[\"image\", \"label\"], ensure_channel_first = True),\n",
    "            # transforms.Orientationd(keys=[\"image\", \"label\"], axcodes=\"RAS\"),\n",
    "            # # transforms.CropForegroundd(keys=[\"image\", \"label\"], source_key=\"image\"),\n",
    "            # # transforms.ScaleIntensityRanged(keys=[\"image\"], a_min=-1024, a_max=1024, b_min=0.0, b_max=1.0, clip=True),\n",
    "            # transforms.NormalizeIntensityd(keys=\"image\", nonzero=True, channel_wise=True),\n",
    "        ]\n",
    "    )\n",
    "    train_ds = data.Dataset(data=train_files, transform=train_transform)\n",
    "\n",
    "\n",
    "    train_loader = data.DataLoader(\n",
    "        train_ds,\n",
    "        batch_size=batch_size,\n",
    "        shuffle=True,\n",
    "        num_workers=8,\n",
    "        pin_memory=True,\n",
    "    )\n",
    "    val_ds = data.Dataset(data=validation_files, transform=val_transform)\n",
    "\n",
    "    val_loader = data.DataLoader(\n",
    "        val_ds,\n",
    "        batch_size=1,\n",
    "        shuffle=False,\n",
    "        num_workers=8,\n",
    "        pin_memory=True,\n",
    "    )\n",
    "\n",
    "    return train_loader, val_loader, train_ds, val_ds"
   ]
  },
  {
   "cell_type": "code",
   "execution_count": 36,
   "metadata": {},
   "outputs": [],
   "source": [
    "root_dir = \"\"\n",
    "\n",
    "\n",
    "data_dir = '/home/ikboljonsobirov/sega/segaorta_tensor/'\n",
    "# data_dir_orig = '/Users/ikboljon.sobirov/Documents/sega23/SegAorta/'\n",
    "datalist_json = '/home/ikboljonsobirov/sega/train_json_orig.json'\n",
    "batch_size = 1\n",
    "sw_batch_size = 6\n",
    "fold = 4 # 0,1,2,3,4\n",
    "# roi = (64,64,64)\n",
    "infer_overlap = 0.5\n",
    "chkpt_path = '/home/ikboljonsobirov/sega/sega_miccai-1/logs/train/runs/2023-09-04_00-50-19/checkpoints/epoch_093.ckpt'"
   ]
  },
  {
   "cell_type": "code",
   "execution_count": 37,
   "metadata": {},
   "outputs": [],
   "source": [
    "train_loader, val_loader, train_ds, val_ds = get_loader(batch_size, sw_batch_size, data_dir, datalist_json, fold)"
   ]
  },
  {
   "cell_type": "code",
   "execution_count": 38,
   "metadata": {},
   "outputs": [],
   "source": [
    "a = next(iter(val_loader))"
   ]
  },
  {
   "cell_type": "code",
   "execution_count": 39,
   "metadata": {},
   "outputs": [
    {
     "data": {
      "text/plain": [
       "torch.Size([1, 1, 530, 415, 415])"
      ]
     },
     "execution_count": 39,
     "metadata": {},
     "output_type": "execute_result"
    }
   ],
   "source": [
    "a['image'].shape"
   ]
  },
  {
   "cell_type": "code",
   "execution_count": 40,
   "metadata": {},
   "outputs": [],
   "source": [
    "def load_model_weights(model, path_to_model_weights):\n",
    "    model_state_dict = torch.load(path_to_model_weights, map_location=lambda storage, loc: storage)\n",
    "    state_dict = model_state_dict['state_dict']\n",
    "    \n",
    "    for key in list(state_dict):\n",
    "        state_dict[key.replace(\"model.\", \"\")] = state_dict.pop(key)\n",
    "\n",
    "    model.load_state_dict(state_dict)\n",
    "    return model"
   ]
  },
  {
   "cell_type": "code",
   "execution_count": 41,
   "metadata": {},
   "outputs": [],
   "source": [
    "os.environ[\"CUDA_DEVICE_ORDER\"] = \"PCI_BUS_ID\"\n",
    "device = torch.device(\"cuda\" if torch.cuda.is_available() else \"cpu\")\n",
    "\n",
    "model = SegResNet(\n",
    "                            in_channels=1, out_channels=1, init_filters=16)\n",
    "\n",
    "model = load_model_weights(model, chkpt_path)\n",
    "\n",
    "model = model.to(device)\n"
   ]
  },
  {
   "cell_type": "code",
   "execution_count": 42,
   "metadata": {},
   "outputs": [],
   "source": [
    "# post_label = Compose([AsDiscrete(to_onehot=2)])\n",
    "# post_sigmoid = Activations(sigmoid=True)\n",
    "# post_pred = AsDiscrete(argmax=True, threshold=0.5, to_onehot=2)\n",
    "# dice_acc = DiceMetric(include_background=False, reduction=\"mean\",get_not_nans=True)\n",
    "model_inferer = partial(\n",
    "    sliding_window_inference,\n",
    "    roi_size=[roi[0], roi[1], roi[2]],\n",
    "    sw_batch_size=sw_batch_size,\n",
    "    predictor=model,\n",
    "    overlap=infer_overlap,\n",
    ")\n",
    "\n"
   ]
  },
  {
   "cell_type": "code",
   "execution_count": 50,
   "metadata": {},
   "outputs": [],
   "source": [
    "metric_dictionary = {}\n",
    "metric_dictionary['id'] = []\n",
    "metric_dictionary['dice'] = []"
   ]
  },
  {
   "cell_type": "code",
   "execution_count": 65,
   "metadata": {},
   "outputs": [
    {
     "name": "stdout",
     "output_type": "stream",
     "text": [
      "id: ['K1'], metric_rs: 0.693173348903656\n"
     ]
    }
   ],
   "source": [
    "model.eval()\n",
    "# run_acc = AverageMeter()\n",
    "# start_time = time.time()\n",
    "# inference_times = []\n",
    "# orig_path = \"segaorta\"\n",
    "inference_path = \"inference\"\n",
    "os.makedirs(inference_path, exist_ok=True)\n",
    "\n",
    "with torch.no_grad():\n",
    "    for idx, sample in enumerate(val_loader):\n",
    "        \n",
    "        val_inputs, val_labels = sample[\"image\"].to(device), sample[\"label\"].to(device)\n",
    "        # break\n",
    "        val_outputs = model_inferer(val_inputs)\n",
    "        y_pred = torch.where(val_outputs>0.5, 1, 0).float()\n",
    "        # y_pred = y_pred.squeeze(0)\n",
    "        dsc = dice(y_pred.detach(), val_labels.detach())\n",
    "        metric_dictionary['id'].append(sample['id'][0])\n",
    "        metric_dictionary['dice'].append(dsc.item())\n",
    "    \n",
    "        print(f\"id: {sample['id']}, metric_rs: {dsc}\")\n",
    "        \n",
    "        if not os.path.exists(os.path.join(inference_path, sample['id'][0])):\n",
    "                    os.makedirs(os.path.join(inference_path, sample['id'][0]), exist_ok=True)\n",
    "\n",
    "        sitk.WriteImage(sitk.GetImageFromArray(y_pred.squeeze().squeeze().detach().cpu()),  os.path.join(inference_path, sample['id'][0], (sample['id'][0] +'.seg.nrrd')), useCompression=True)\n",
    "        break"
   ]
  },
  {
   "cell_type": "code",
   "execution_count": 70,
   "metadata": {},
   "outputs": [
    {
     "data": {
      "text/plain": [
       "array([0.29791912, 0.63243097, 0.66687578, 0.67295104, 0.69317335,\n",
       "       0.69317335, 0.69317335, 0.69317335, 0.69317335, 0.72053123,\n",
       "       0.80093265, 0.82592112, 0.8493017 , 0.86103886, 0.90568048])"
      ]
     },
     "execution_count": 70,
     "metadata": {},
     "output_type": "execute_result"
    }
   ],
   "source": [
    "np.sort(metric_dictionary['dice'])"
   ]
  },
  {
   "cell_type": "code",
   "execution_count": 57,
   "metadata": {},
   "outputs": [],
   "source": [
    "inp = val_inputs.squeeze().squeeze().detach().cpu()\n",
    "lbl = val_labels.squeeze().squeeze().detach().cpu()\n",
    "prd = y_pred.squeeze().squeeze().detach().cpu()"
   ]
  },
  {
   "cell_type": "code",
   "execution_count": 58,
   "metadata": {},
   "outputs": [
    {
     "data": {
      "text/plain": [
       "torch.Size([471, 361, 277])"
      ]
     },
     "execution_count": 58,
     "metadata": {},
     "output_type": "execute_result"
    }
   ],
   "source": [
    "inp.shape"
   ]
  },
  {
   "cell_type": "code",
   "execution_count": 60,
   "metadata": {},
   "outputs": [
    {
     "data": {
      "text/plain": [
       "<matplotlib.image.AxesImage at 0x7f8c5e57fe20>"
      ]
     },
     "execution_count": 60,
     "metadata": {},
     "output_type": "execute_result"
    },
    {
     "data": {
      "image/png": "[encoded data removed]",
      "text/plain": [
       "<Figure size 640x480 with 1 Axes>"
      ]
     },
     "metadata": {},
     "output_type": "display_data"
    }
   ],
   "source": [
    "plt.imshow(lbl[125,:,:], cmap='gray')"
   ]
  },
  {
   "cell_type": "code",
   "execution_count": 61,
   "metadata": {},
   "outputs": [
    {
     "data": {
      "text/plain": [
       "<matplotlib.image.AxesImage at 0x7f8c5e501dc0>"
      ]
     },
     "execution_count": 61,
     "metadata": {},
     "output_type": "execute_result"
    },
    {
     "data": {
      "image/png": "[encoded data removed]",
      "text/plain": [
       "<Figure size 640x480 with 1 Axes>"
      ]
     },
     "metadata": {},
     "output_type": "display_data"
    }
   ],
   "source": [
    "plt.imshow(prd[125,:,:], cmap='gray')"
   ]
  },
  {
   "cell_type": "code",
   "execution_count": null,
   "metadata": {},
   "outputs": [],
   "source": []
  }
 ],
 "metadata": {
  "kernelspec": {
   "display_name": "sega",
   "language": "python",
   "name": "python3"
  },
  "language_info": {
   "codemirror_mode": {
    "name": "ipython",
    "version": 3
   },
   "file_extension": ".py",
   "mimetype": "text/x-python",
   "name": "python",
   "nbconvert_exporter": "python",
   "pygments_lexer": "ipython3",
   "version": "3.9.17"
  },
  "orig_nbformat": 4
 },
 "nbformat": 4,
 "nbformat_minor": 2
}
